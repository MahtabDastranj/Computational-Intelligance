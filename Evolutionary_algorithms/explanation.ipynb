{
 "cells": [
  {
   "metadata": {},
   "cell_type": "markdown",
   "source": "# A. Overview of Genetic Algorithms",
   "id": "dfba5dbe1162488c"
  },
  {
   "metadata": {},
   "cell_type": "markdown",
   "source": [
    "A Genetic Algorithm is a search and optimization method inspired by the process of natural evolution. It is used to find solutions to complex problems by evolving populations of candidate solutions over multiple generations.\n",
    "\n",
    "GAs are based on Darwin’s principle of natural selection, where:\n",
    "\n",
    "- Strong (fit) solutions survive and reproduce.\n",
    "- Weak solutions are discarded."
   ],
   "id": "a8085fb964ec3373"
  },
  {
   "metadata": {},
   "cell_type": "markdown",
   "source": [
    "**Core Concepts of Genetic Algorithms**\n",
    "A Genetic Algorithm follows these main steps:\n",
    "\n",
    "Initialization: Start with a random population of solutions (chromosomes).\n",
    "Evaluation (Fitness Function): Assess how good each solution is.\n",
    "Selection: Choose the best solutions (parents) for the next generation.\n",
    "Recombination (Crossover): Combine parents' genes to produce offspring.\n",
    "Mutation: Introduce small changes (diversity) in the offspring.\n",
    "Next Generation: Replace the old population with the new generation.\n",
    "Repeat: Continue the process until a stopping condition is met (e.g., maximum generations or a good solution is found)."
   ],
   "id": "57e00e5770772600"
  },
  {
   "metadata": {},
   "cell_type": "markdown",
   "source": "## 1. Representation of Solutions",
   "id": "985ec08384ea9f8c"
  },
  {
   "metadata": {},
   "cell_type": "markdown",
   "source": [
    "A chromosome is a potential solution to the problem.\n",
    "Each chromosome is represented as an array of genes:\n",
    "- Genes are the basic units of a solution.(In n-Queens problem, it demonstrate the collumn of each placed queen. Here it shows whether a gene(gemstone) is chosen or not."
   ],
   "id": "e074f7d68b0eb238"
  },
  {
   "metadata": {},
   "cell_type": "markdown",
   "source": "## 2. Fitness Function",
   "id": "ab03cfa79729f874"
  },
  {
   "metadata": {},
   "cell_type": "markdown",
   "source": [
    "The fitness function evaluates how good a chromosome is as a solution. It assigns a numerical score (fitness) based on the problem's goal.\n",
    "\n",
    "For the Gemstone Problem:\n",
    "- Fitness = Total Worth of selected gemstones, but:\n",
    "If the total weight exceeds 25, fitness = 0"
   ],
   "id": "40a3d59894e348b0"
  },
  {
   "metadata": {},
   "cell_type": "markdown",
   "source": "## 3. Selection",
   "id": "4345163b36f2410"
  },
  {
   "metadata": {},
   "cell_type": "markdown",
   "source": [
    "Selection mimics the natural principle of \"survival of the fittest.\"\n",
    "\n",
    "- The goal is to choose the best chromosomes (solutions) to pass their genes to the next generation.\n",
    "- Chromosomes with higher fitness are more likely to be selected.\n",
    "\n",
    "**Types of Selection:**\n",
    "1. Top Selection: Pick the best k solutions.(Chosen for this task)\n",
    "\n",
    "2. *Roulette Wheel Selection*: Probability of selection depends on fitness.\n",
    "3. 8Tournament Selection*: Random groups compete, and the best wins.\n",
    "4. *Rank-based selection*\n",
    "5. *Elitism*\n",
    "6. *Stochastic Universal Sampling*\n",
    "\n",
    "Why Selection?\n",
    "\n",
    "It ensures good solutions (fit chromosomes) survive and propagate."
   ],
   "id": "a3eff7fb2127f901"
  },
  {
   "metadata": {},
   "cell_type": "markdown",
   "source": "## 4. Recombination (Crossover)",
   "id": "ddd972b8ed9803"
  },
  {
   "metadata": {},
   "cell_type": "markdown",
   "source": [
    "Recombination (or crossover) simulates how genes combine during reproduction. It creates new offspring by combining genes from two parent chromosomes.\n",
    "- It combines good traits (genes) from different parents.\n",
    "- It helps explore new solutions that might be better.\n",
    "\n",
    "**One-Point Crossover** (Used in our problem):\n",
    "\n",
    "1. A cutting point is chosen in the chromosome.\n",
    "2. The genes to the left of the cutting point are taken from Parent 1.\n",
    "3. The genes to the right of the cutting point are taken from Parent 2."
   ],
   "id": "e2bdf1a5a870ef04"
  },
  {
   "metadata": {},
   "cell_type": "markdown",
   "source": "## 5. Mutation",
   "id": "94da26fb27828329"
  },
  {
   "metadata": {},
   "cell_type": "markdown",
   "source": [
    "Mutation introduces small random changes in offspring to maintain diversity.\n",
    "- Prevents the population from becoming too similar.\n",
    "- Allows the algorithm to explore new solutions.\n",
    "\n",
    "**How Mutation Works:**\n",
    "Randomly pick a gene in the chromosome.\n",
    "Flip its value(for binary values):\n",
    "If the gene is 1, it becomes 0.\n",
    "If the gene is 0, it becomes 1"
   ],
   "id": "5dd7a4991d46dc1e"
  },
  {
   "metadata": {},
   "cell_type": "markdown",
   "source": "# B. Results",
   "id": "11af690d343057b4"
  },
  {
   "metadata": {},
   "cell_type": "markdown",
   "source": "",
   "id": "5479d77164495148"
  }
 ],
 "metadata": {
  "kernelspec": {
   "display_name": "Python 3",
   "language": "python",
   "name": "python3"
  },
  "language_info": {
   "codemirror_mode": {
    "name": "ipython",
    "version": 2
   },
   "file_extension": ".py",
   "mimetype": "text/x-python",
   "name": "python",
   "nbconvert_exporter": "python",
   "pygments_lexer": "ipython2",
   "version": "2.7.6"
  }
 },
 "nbformat": 4,
 "nbformat_minor": 5
}
