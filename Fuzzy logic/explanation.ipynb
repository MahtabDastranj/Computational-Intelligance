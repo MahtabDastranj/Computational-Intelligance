{
 "cells": [
  {
   "metadata": {},
   "cell_type": "markdown",
   "source": "# Fuzzy C-Means (FCM) Clustering",
   "id": "f2296dd324c1dcbe"
  },
  {
   "metadata": {},
   "cell_type": "markdown",
   "source": "Fuzzy C-Means (FCM) is a soft clustering algorithm that assigns data points to multiple clusters with varying degrees of membership, unlike hard clustering methods (e.g., K-Means) where each data point belongs to exactly one cluster.",
   "id": "27f1d99c2dd5b6b7"
  },
  {
   "metadata": {},
   "cell_type": "markdown",
   "source": "## A. An Overview",
   "id": "342103c6d60cd1ba"
  },
  {
   "metadata": {},
   "cell_type": "markdown",
   "source": [
    "**Clustering:**\n",
    "\n",
    "Definition: The process of grouping similar data points into clusters.\n",
    "\n",
    "Use: Commonly used in data exploration, pattern recognition, and segmentation tasks.\n",
    "\n",
    "**Hard vs. Soft Clustering:**\n",
    "\n",
    "Hard Clustering: Each data point belongs to one cluster (e.g., K-Means).\n",
    "\n",
    "Soft Clustering: Each data point can belong to multiple clusters with a membership degree. FCM is a soft clustering method.\n",
    "\n",
    "**Membership Degree:**\n",
    "\n",
    "FCM uses a membership matrix to represent the degree to which each data point belongs to each cluster.\n",
    "\n",
    "Values range from 0 to 1, with the sum of memberships for a data point across all clusters equal to 1.\n",
    "\n",
    "**Fuzziness Parameter (m):**\n",
    "\n",
    "Controls the \"softness\" of the clustering.\n",
    "\n",
    "Higher values of m allow more overlap between clusters, while lower values make the clusters more distinct."
   ],
   "id": "3ef31336c343b9c3"
  },
  {
   "metadata": {},
   "cell_type": "markdown",
   "source": "## B. How FCM Works",
   "id": "2fa6c8bf660b4748"
  },
  {
   "metadata": {},
   "cell_type": "markdown",
   "source": [
    "1. Initialization:\n",
    "\n",
    "    Randomly select initial cluster centers.\n",
    "2. Iterative Updates:\n",
    "- Step 1: Update Membership Matrix:\n",
    "Calculate the membership value for each data point in every cluster based on the distance to the cluster center.\n",
    "Closer points have higher membership values.\n",
    "- Step 2: Update Cluster Centers:\n",
    "Compute new cluster centers as a weighted average of data points, where weights are the membership degrees.\n",
    "- Step 3: Compute Cost:\n",
    "Evaluate the cost function, which measures the clustering quality.\n",
    "3. Convergence:\n",
    "\n",
    "    Stop the iterations when the change in cost is smaller than a defined tolerance (tol) or the maximum number of iterations is reached."
   ],
   "id": "412894e9e41bd9be"
  },
  {
   "metadata": {},
   "cell_type": "markdown",
   "source": "## C. Implementation",
   "id": "22d7860608327c7e"
  },
  {
   "metadata": {},
   "cell_type": "markdown",
   "source": [
    "1. **Membership Matrix Update:**\n",
    "\n",
    "    The membership value $u_{ij}$ of data point $x_j$ in cluster $i$ is computed as:\n",
    "\\begin{align*}\n",
    "u_{ij} &= \\frac{1}{\\sum_{k=1}^{c} \\left(\\frac{||x_j - v_i||}{||x_j - v_k||}\\right)^{\\frac{2}{m-1}}}\n",
    "\\end{align*}\n",
    "\n",
    " Where:\n",
    "- $u_{ij}$: Membership of point $x_j$ in cluster $i$.\n",
    "- $v_i$: Center of cluster $i$.\n",
    "- $||x_j - v_i||$: Distance between point $x_j$ and cluster $i$.\n",
    "- $m$: Fuzziness parameter.\n",
    "- $c$: Number of clusters.\n",
    "\n",
    "\n",
    "2. **Cluster Center Update**\n",
    "\n",
    "    The center $v_i$ of cluster $i$ is updated as: \\dots (This part needs the actual update formula)\n",
    "\\end{latex}\n",
    "\n",
    "\\begin{align*}\n",
    "v_i = \\frac{\\sum_{j=1}^{n} u_{ij}^m \\cdot x_j}{\\sum_{j=1}^{n} u_{ij}^m}\n",
    "\\end{align*}\n",
    "\n",
    "Where:\n",
    "   - $v_i$: Center of cluster $i$.\n",
    "   - $x_j$: Data point.\n",
    "   - $u_{ij}^m$: Membership degree of $x_j$, weighted by $m$.\n",
    "\n",
    "3. **Cost Function:**\n",
    "\n",
    "    The objective of FCM is to minimize the cost function:\n",
    "\n",
    "\\begin{align*}\n",
    "J_m = \\sum_{j=1}^{n} \\sum_{i=1}^{c} u_{ij}^m ||x_j - v_i||^2\n",
    "\\end{align*}\n",
    "\n",
    "Where:\n",
    "- $J_m$: Cost Function.\n",
    "- $u_{ij}$:Weighted membership degree.\n",
    "- $||x_j - v_i||^2$: Squared distance between point $x_j$ and cluster $i$."
   ],
   "id": "18e2ffb7f54f03d7"
  },
  {
   "metadata": {},
   "cell_type": "markdown",
   "source": "## D. Cons and Pros",
   "id": "48e938491e78992a"
  },
  {
   "metadata": {},
   "cell_type": "markdown",
   "source": [
    "**Advantages of FCM**\n",
    "1. Soft Assignments:\n",
    "- Captures uncertainty in data by allowing partial membership.\n",
    "- Suitable for datasets where boundaries between clusters are not clear.\n",
    "2. Flexibility:\n",
    "- Can handle overlapping clusters well by adjusting the fuzziness parameter.\n",
    "3. Adaptability:\n",
    "- Works for 2D, 3D, or even higher-dimensional data.\n",
    "\n",
    "**Limitations of FCM**\n",
    "1. Sensitive to Initialization:\n",
    "- Poor initialization of cluster centers can lead to suboptimal solutions.\n",
    "2. Computationally Expensive:\n",
    "- Membership matrix and distance calculations are repeated for every iteration.\n",
    "3. Performance on Noisy Data:\n",
    "- May struggle with noisy data because it heavily relies on distance metrics."
   ],
   "id": "be10bcd5d0852fed"
  }
 ],
 "metadata": {
  "kernelspec": {
   "display_name": "Python 3",
   "language": "python",
   "name": "python3"
  },
  "language_info": {
   "codemirror_mode": {
    "name": "ipython",
    "version": 2
   },
   "file_extension": ".py",
   "mimetype": "text/x-python",
   "name": "python",
   "nbconvert_exporter": "python",
   "pygments_lexer": "ipython2",
   "version": "2.7.6"
  }
 },
 "nbformat": 4,
 "nbformat_minor": 5
}
