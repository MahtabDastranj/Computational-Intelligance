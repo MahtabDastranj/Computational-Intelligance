{
 "cells": [
  {
   "metadata": {},
   "cell_type": "markdown",
   "source": "# Training on MNIST data",
   "id": "1ff9802eb45a7476"
  },
  {
   "metadata": {},
   "cell_type": "markdown",
   "source": [
    "**Input Layer**\n",
    "\n",
    "- Each handwritten digit image is 28×28 pixels, which means 784 input neurons (28×28).\n",
    "- The pixel values range from 0 to 255, which are normalized by dividing by 256 to ensure the values lie between 0 and 1.\n",
    "\n",
    "**Output Layer**\n",
    "\n",
    "- This layer contains 10 neurons, one for each digit (0–9).\n",
    "- The output neuron with the highest value represents the predicted digit.\n",
    "\n",
    "**Hidden Layers**\n",
    "- The network contains two hidden layers, each with 16 neurons.\n",
    "- Each hidden layer processes the data and extracts features relevant for classification.\n",
    "- Bias neurons are added to the layers to allow more flexibility in learning the relationships between inputs and outputs."
   ],
   "id": "5f399a888f021d5f"
  },
  {
   "metadata": {},
   "cell_type": "markdown",
   "source": "## A. Ordinary way",
   "id": "2f23363e8e19fb57"
  },
  {
   "metadata": {},
   "cell_type": "markdown",
   "source": [
    "**Weight Initialization**\n",
    "- Weights determine the strength of connections between neurons.\n",
    "- They are initialized with small random values (normal distribution).\n",
    "- Biases start at 0 and are adjusted during training."
   ],
   "id": "fc01ed12a7a9d968"
  },
  {
   "metadata": {},
   "cell_type": "markdown",
   "source": "",
   "id": "8b86975497fd2d5a"
  }
 ],
 "metadata": {
  "kernelspec": {
   "display_name": "Python 3",
   "language": "python",
   "name": "python3"
  },
  "language_info": {
   "codemirror_mode": {
    "name": "ipython",
    "version": 2
   },
   "file_extension": ".py",
   "mimetype": "text/x-python",
   "name": "python",
   "nbconvert_exporter": "python",
   "pygments_lexer": "ipython2",
   "version": "2.7.6"
  }
 },
 "nbformat": 4,
 "nbformat_minor": 5
}
